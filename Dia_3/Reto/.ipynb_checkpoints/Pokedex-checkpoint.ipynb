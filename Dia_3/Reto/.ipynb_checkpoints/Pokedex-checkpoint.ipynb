{
 "cells": [
  {
   "cell_type": "markdown",
   "metadata": {},
   "source": [
    "## Datasets para el reto: Pokemon"
   ]
  },
  {
   "cell_type": "code",
   "execution_count": 4,
   "metadata": {},
   "outputs": [],
   "source": [
    "import pandas as pd\n",
    "\n",
    "df = pd.read_csv(r'C:\\Users\\maria.pineiro.pereda\\Accenture\\Malaka - General\\Curso_FP_FY2020\\Dia_3\\Reto\\Datasets\\pokemon.csv',sep=\";\")\n",
    "\n"
   ]
  },
  {
   "cell_type": "code",
   "execution_count": 5,
   "metadata": {},
   "outputs": [
    {
     "data": {
      "text/html": [
       "<div>\n",
       "<style>\n",
       "    .dataframe thead tr:only-child th {\n",
       "        text-align: right;\n",
       "    }\n",
       "\n",
       "    .dataframe thead th {\n",
       "        text-align: left;\n",
       "    }\n",
       "\n",
       "    .dataframe tbody tr th {\n",
       "        vertical-align: top;\n",
       "    }\n",
       "</style>\n",
       "<table border=\"1\" class=\"dataframe\">\n",
       "  <thead>\n",
       "    <tr style=\"text-align: right;\">\n",
       "      <th></th>\n",
       "      <th>Number;Name;Type;HP;Attack;Defense;Speed;Generation;Color;hasGender;Egg_Group;hasMegaEvolution;Catch_Rate;Body_Style;isLegendary</th>\n",
       "    </tr>\n",
       "  </thead>\n",
       "  <tbody>\n",
       "    <tr>\n",
       "      <th>0</th>\n",
       "      <td>1;Bulbasaur;Grass;45;49;49;45;1;Green;TRUE;Mon...</td>\n",
       "    </tr>\n",
       "    <tr>\n",
       "      <th>1</th>\n",
       "      <td>2;Ivysaur;Grass;60;62;63;60;1;Green;TRUE;Monst...</td>\n",
       "    </tr>\n",
       "    <tr>\n",
       "      <th>2</th>\n",
       "      <td>3;Venusaur;Grass;80;82;83;80;1;Green;TRUE;Mons...</td>\n",
       "    </tr>\n",
       "    <tr>\n",
       "      <th>3</th>\n",
       "      <td>4;Charmander;Fire;39;52;43;65;1;Red;TRUE;Monst...</td>\n",
       "    </tr>\n",
       "    <tr>\n",
       "      <th>4</th>\n",
       "      <td>5;Charmeleon;Fire;58;64;58;80;1;Red;TRUE;Monst...</td>\n",
       "    </tr>\n",
       "  </tbody>\n",
       "</table>\n",
       "</div>"
      ],
      "text/plain": [
       "  Number;Name;Type;HP;Attack;Defense;Speed;Generation;Color;hasGender;Egg_Group;hasMegaEvolution;Catch_Rate;Body_Style;isLegendary\n",
       "0  1;Bulbasaur;Grass;45;49;49;45;1;Green;TRUE;Mon...                                                                              \n",
       "1  2;Ivysaur;Grass;60;62;63;60;1;Green;TRUE;Monst...                                                                              \n",
       "2  3;Venusaur;Grass;80;82;83;80;1;Green;TRUE;Mons...                                                                              \n",
       "3  4;Charmander;Fire;39;52;43;65;1;Red;TRUE;Monst...                                                                              \n",
       "4  5;Charmeleon;Fire;58;64;58;80;1;Red;TRUE;Monst...                                                                              "
      ]
     },
     "execution_count": 5,
     "metadata": {},
     "output_type": "execute_result"
    }
   ],
   "source": [
    "df.head()"
   ]
  },
  {
   "cell_type": "markdown",
   "metadata": {},
   "source": [
    "## Consejos"
   ]
  },
  {
   "cell_type": "markdown",
   "metadata": {},
   "source": [
    "Cambiar todas las variables no numéricas (categóricas) a números.\n",
    "\n",
    "\n"
   ]
  },
  {
   "cell_type": "markdown",
   "metadata": {},
   "source": [
    "¿Qué modelo podemos usar? "
   ]
  },
  {
   "cell_type": "code",
   "execution_count": 3,
   "metadata": {},
   "outputs": [],
   "source": [
    "from sklearn.tree import DecisionTreeClassifier"
   ]
  },
  {
   "cell_type": "markdown",
   "metadata": {},
   "source": [
    "+ dividir el dataframe en training y test, podemos usar el método train_test_split de sklearn "
   ]
  },
  {
   "cell_type": "markdown",
   "metadata": {},
   "source": [
    "+ entrenar el modelo según la documentación que podemos encontrar en sklearn (función fit)"
   ]
  },
  {
   "cell_type": "markdown",
   "metadata": {},
   "source": [
    "+ probar cómo de bueno es el modelo con nuestros datos de test (predict)"
   ]
  },
  {
   "cell_type": "markdown",
   "metadata": {},
   "source": [
    "+ guardar el modelo con la librería pickle "
   ]
  },
  {
   "cell_type": "markdown",
   "metadata": {},
   "source": [
    "+ no usaremos el nombre del pokemon, ya que no aporta información en el dataset. ¿Qué otros datos creemos que no son importantes para detectar si un pokemon es legendario?"
   ]
  },
  {
   "cell_type": "markdown",
   "metadata": {},
   "source": [
    "Ideas para usar el dataset:\n",
    "\n",
    "+ Es posible construir un clasificador para identificar si un pokemon es legendario para la generación 6 usando los datos de las generaciones 1-5?\n",
    "\n"
   ]
  },
  {
   "cell_type": "code",
   "execution_count": null,
   "metadata": {},
   "outputs": [],
   "source": []
  }
 ],
 "metadata": {
  "kernelspec": {
   "display_name": "Python 3",
   "language": "python",
   "name": "python3"
  },
  "language_info": {
   "codemirror_mode": {
    "name": "ipython",
    "version": 3
   },
   "file_extension": ".py",
   "mimetype": "text/x-python",
   "name": "python",
   "nbconvert_exporter": "python",
   "pygments_lexer": "ipython3",
   "version": "3.6.8"
  }
 },
 "nbformat": 4,
 "nbformat_minor": 2
}
