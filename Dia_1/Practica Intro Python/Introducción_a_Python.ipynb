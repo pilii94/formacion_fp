{
 "cells": [
  {
   "cell_type": "markdown",
   "metadata": {},
   "source": [
    "# Introducción a Python\n",
    "\n",
    "Con el propósito de acompañar los ejemplos de las diapositivas, vamos a ir rellenando este notebook para practicar lo que iremos aprendiendo a lo largo de la primera unidad.\n"
   ]
  },
  {
   "cell_type": "markdown",
   "metadata": {},
   "source": [
    "### Tipos básicos de objetos"
   ]
  },
  {
   "attachments": {},
   "cell_type": "markdown",
   "metadata": {},
   "source": [
    "#### Numéricos:\n",
    "- Números enteros (int): 24,  0b010011, 0x18, 0o30\n",
    "- Números de punto flotante (float): 3.141595, -45.3556\n",
    "- Números complejos (complex):  6.32 + 45j\n",
    "\n",
    "Vamos a declarar algunos tipos de datos numéricos."
   ]
  },
  {
   "cell_type": "code",
   "execution_count": null,
   "metadata": {},
   "outputs": [],
   "source": [
    "x = 3\n",
    "print (x, type(x))"
   ]
  },
  {
   "cell_type": "code",
   "execution_count": null,
   "metadata": {},
   "outputs": [],
   "source": [
    "print (x + 1)   # Suma;\n",
    "print (x - 1)   # Resta;\n",
    "print (x * 2)   # Multiplicación;\n",
    "print (x ** 2)  # Exponenciación;"
   ]
  },
  {
   "cell_type": "code",
   "execution_count": null,
   "metadata": {},
   "outputs": [],
   "source": [
    "x += 1\n",
    "print (x)  # Imprime \"4\"\n",
    "x *= 2\n"
   ]
  },
  {
   "cell_type": "code",
   "execution_count": null,
   "metadata": {},
   "outputs": [],
   "source": [
    "y = 2.5\n",
    "print (type(y))"
   ]
  },
  {
   "cell_type": "markdown",
   "metadata": {},
   "source": [
    "Prueba con algún ejemplo de las diapositivas"
   ]
  },
  {
   "cell_type": "code",
   "execution_count": null,
   "metadata": {},
   "outputs": [],
   "source": [
    "#(1.0/10 +0.2) == 0.3"
   ]
  },
  {
   "cell_type": "markdown",
   "metadata": {},
   "source": [
    "#### Booleanos:\n"
   ]
  },
  {
   "cell_type": "code",
   "execution_count": null,
   "metadata": {},
   "outputs": [],
   "source": [
    "t, f = True, False\n",
    "print (type(t))\n"
   ]
  },
  {
   "cell_type": "code",
   "execution_count": null,
   "metadata": {},
   "outputs": [],
   "source": [
    "print (t and f) # Logical AND;\n",
    "print (t or f) # Logical OR; \n",
    "print (not t) # Logical NOT; \n",
    "print (t != f) # Logical XOR;"
   ]
  },
  {
   "cell_type": "code",
   "execution_count": null,
   "metadata": {},
   "outputs": [],
   "source": []
  },
  {
   "cell_type": "markdown",
   "metadata": {},
   "source": [
    "##### Textos: cadenas de caracteres"
   ]
  },
  {
   "cell_type": "code",
   "execution_count": null,
   "metadata": {},
   "outputs": [],
   "source": [
    "print('I love Python')"
   ]
  },
  {
   "cell_type": "code",
   "execution_count": null,
   "metadata": {},
   "outputs": [],
   "source": [
    "print(100/5,\"I love Python\", 15+30)\n"
   ]
  },
  {
   "cell_type": "code",
   "execution_count": null,
   "metadata": {},
   "outputs": [],
   "source": [
    "\"Hola a todo el mundo\".replace(\"Hola\", \"Adiós\")\n"
   ]
  },
  {
   "cell_type": "code",
   "execution_count": null,
   "metadata": {},
   "outputs": [],
   "source": [
    "print (\"hello\", len(\"hello\"))"
   ]
  },
  {
   "cell_type": "markdown",
   "metadata": {},
   "source": [
    "##### Estructuras de datos\n",
    "Prueba algunos de los ejemplos de las diapositivas:"
   ]
  },
  {
   "cell_type": "code",
   "execution_count": null,
   "metadata": {},
   "outputs": [],
   "source": [
    "fibonacci= [1, 1, 2, 3, 5, 8, 13]\n",
    "fibonacci.append(21)\n",
    "print(fibonacci)"
   ]
  },
  {
   "cell_type": "code",
   "execution_count": null,
   "metadata": {},
   "outputs": [],
   "source": [
    "fibonacci.reverse()\n",
    "print(fibonacci)"
   ]
  },
  {
   "cell_type": "code",
   "execution_count": null,
   "metadata": {},
   "outputs": [],
   "source": []
  },
  {
   "cell_type": "code",
   "execution_count": null,
   "metadata": {},
   "outputs": [],
   "source": [
    "matriz2x2=[[1,2],[3, 4]]\n",
    "matriz2x2[1][1]"
   ]
  },
  {
   "cell_type": "code",
   "execution_count": null,
   "metadata": {},
   "outputs": [],
   "source": [
    "m= [range(1, 10, 2), range( 10, 1 ,-2), range (20 ,30 ,2)]\n",
    "\n",
    "print(list(m[1]))\n",
    "m[1][2]"
   ]
  },
  {
   "cell_type": "code",
   "execution_count": null,
   "metadata": {},
   "outputs": [],
   "source": []
  },
  {
   "cell_type": "code",
   "execution_count": null,
   "metadata": {},
   "outputs": [],
   "source": [
    "##Diccionarios\n",
    "\n",
    "tfnos=tfnos={'pepe': 912345678 ,'luis': 924681357 ,'manolo': 9087654321}\n",
    "tfnos['luis']"
   ]
  },
  {
   "cell_type": "code",
   "execution_count": null,
   "metadata": {},
   "outputs": [],
   "source": [
    "tfnos['elena']= 911223344\n",
    "\n",
    "print(tfnos)"
   ]
  },
  {
   "cell_type": "code",
   "execution_count": null,
   "metadata": {},
   "outputs": [],
   "source": [
    "import time\n",
    "horaActual= time.localtime()\n",
    "type(horaActual)\n"
   ]
  },
  {
   "cell_type": "code",
   "execution_count": null,
   "metadata": {},
   "outputs": [],
   "source": [
    "\n",
    "horaActual\n"
   ]
  },
  {
   "cell_type": "code",
   "execution_count": null,
   "metadata": {},
   "outputs": [],
   "source": [
    "### Clases y objetos\n",
    "\n",
    "class Persona:\n",
    "    #Atributos de la clase\n",
    "    nombre=''\n",
    "    dni = 0\n",
    "    edad= 0\n",
    "    #Métodos de la clase\n",
    "    def presentar(self):\n",
    "        print(\" me llamo\", self.nombre ,\"con DNI\", self.dni ,\"y tengo\", self.edad ,\"años\")\n",
    "        \n",
    "#Creamosobjeto persona\n",
    "persona1 = Persona()\n",
    "#Asignamos sus atributos\n",
    "persona1.nombre=\" \"\n",
    "persona1.dni=\" \"\n",
    "persona1.edad=  0\n",
    "#Invocamos a uno de sus métodos \n",
    "persona1.presentar()"
   ]
  },
  {
   "cell_type": "markdown",
   "metadata": {},
   "source": [
    "##### Estructuras de control\n",
    "\n",
    "Instrucciones condicionales:"
   ]
  },
  {
   "cell_type": "code",
   "execution_count": null,
   "metadata": {},
   "outputs": [],
   "source": [
    "van=int(input(\"Introduce el valor VAN: \"))\n",
    "\n",
    "if van>1000:\n",
    "    print(\"Seguir adelante\")\n",
    "elif van==1000:\n",
    "    print(\"Consultar con experto/a\") \n",
    "else: \n",
    "    print(\"Detener inversión\") \n",
    "\n",
    "  # Fin del programa\n"
   ]
  },
  {
   "cell_type": "markdown",
   "metadata": {},
   "source": [
    "Condiciones múltiples:"
   ]
  },
  {
   "cell_type": "code",
   "execution_count": null,
   "metadata": {},
   "outputs": [],
   "source": [
    "   def esMicroEmpresa(empleados, facturacion, balance):\n",
    "\treturn (empleados<10) and (facturacion<=2 or balance<=2) # si se cumple todo, devuelve True\n",
    "\n",
    "   def esPeqEmpresa(empleados, facturacion, balance):\n",
    "\tif esMicroEmpresa(empleados, facturacion, balance):\n",
    "\t\treturn False\n",
    "\telse:\n",
    "      \t\treturn (empleados<50) and (facturacion<=10 or balance<=10)# si se cumple todo, develve True\n"
   ]
  },
  {
   "cell_type": "markdown",
   "metadata": {},
   "source": [
    "Llamamos a la función esPeqEmpresa con los parámetros correspondientes para probarla:"
   ]
  },
  {
   "cell_type": "code",
   "execution_count": null,
   "metadata": {},
   "outputs": [],
   "source": [
    "esPeqEmpresa(3,1,1)"
   ]
  },
  {
   "cell_type": "code",
   "execution_count": null,
   "metadata": {},
   "outputs": [],
   "source": [
    "esPeqEmpresa(300,400000,400)"
   ]
  },
  {
   "cell_type": "code",
   "execution_count": null,
   "metadata": {},
   "outputs": [],
   "source": [
    "esPeqEmpresa(13,1000,8)"
   ]
  },
  {
   "cell_type": "code",
   "execution_count": null,
   "metadata": {},
   "outputs": [],
   "source": []
  },
  {
   "cell_type": "code",
   "execution_count": null,
   "metadata": {},
   "outputs": [],
   "source": []
  },
  {
   "cell_type": "markdown",
   "metadata": {},
   "source": [
    "##### Bucle while"
   ]
  },
  {
   "cell_type": "code",
   "execution_count": null,
   "metadata": {},
   "outputs": [],
   "source": [
    "i = 1\n",
    "while i <= 3:\n",
    "    print(i)\n",
    "    i += 1\n",
    "print(\"Programa terminado\")"
   ]
  },
  {
   "cell_type": "code",
   "execution_count": null,
   "metadata": {},
   "outputs": [],
   "source": [
    "count = 0\n",
    "while (count < 9):\n",
    "    print(\"El total es:\",---)#TODO\n",
    "    count = count + --- #TODO\n",
    "print(\"Adios!...\")\n"
   ]
  },
  {
   "cell_type": "markdown",
   "metadata": {},
   "source": [
    "##### For: recorriendo listas"
   ]
  },
  {
   "cell_type": "code",
   "execution_count": null,
   "metadata": {},
   "outputs": [],
   "source": [
    "class Estudiante:\n",
    "    def __init__(self, nombre, asignatura, nota):\n",
    "        self.nombre=nombre\n",
    "        self.asignatura=asignatura\n",
    "        self.nota=nota\n"
   ]
  },
  {
   "cell_type": "code",
   "execution_count": null,
   "metadata": {},
   "outputs": [],
   "source": [
    "#Función que recibe un conjunto de estudiantes y devuelve un conjunto de valoraciones\n",
    "def evaluar(estudiantes):\n",
    "    valoraciones=[]\n",
    "    for estudiante in estudiantes:\n",
    "        if estudiante.nota >= 5:\n",
    "            valoraciones.append(estudiante.nombre + \" ha aprobado \" + estudiante.asignatura)\n",
    "        else:\n",
    "            valoraciones.append(estudiante.nombre + \" ha suspendido \" + estudiante.asignatura)\n",
    "    return valoraciones\n"
   ]
  },
  {
   "cell_type": "markdown",
   "metadata": {},
   "source": [
    "Prueba a evaluar una lista de estudiantes:"
   ]
  },
  {
   "cell_type": "code",
   "execution_count": null,
   "metadata": {},
   "outputs": [],
   "source": []
  },
  {
   "cell_type": "code",
   "execution_count": null,
   "metadata": {},
   "outputs": [],
   "source": []
  },
  {
   "cell_type": "code",
   "execution_count": null,
   "metadata": {},
   "outputs": [],
   "source": [
    "### Recorriendo listas de objetos:\n",
    "import urllib.request\n",
    "import csv\n",
    "\n",
    "#Preparamos URL desde donde descargar datos y nombre de fichero\n",
    "url=\"http://datos.gijon.es/doc/informacion/bancos-cajeros.csv\"\n",
    "nombre_fichero= \"bancos.csv\"\n",
    "\n",
    "\n",
    "# Descargamos los datos\n",
    "urllib.request.urlretrieve(url , nombre_fichero)\n",
    "with open( nombre_fichero ) as ficheroCSV:\n",
    "    bancos = list(csv.reader(ficheroCSV , delimiter=','))\n",
    "    for banco in bancos:\n",
    "        print(\"NOMBRE:\", banco[4],\"TFNO:\", banco[4], \"TFNO:\",banco[5])\n",
    "        print(\"---\")\n",
    "        print(\"Hay un total de \", len(bancos), \"bancos\")\n",
    "        print(\"---\")\n",
    "# Fin del programa\n"
   ]
  },
  {
   "cell_type": "markdown",
   "metadata": {},
   "source": [
    "##### NumPy\n"
   ]
  },
  {
   "cell_type": "code",
   "execution_count": null,
   "metadata": {},
   "outputs": [],
   "source": [
    "import numpy as np"
   ]
  },
  {
   "cell_type": "code",
   "execution_count": null,
   "metadata": {},
   "outputs": [],
   "source": [
    "a = np.array([1, 2, 3]) \n",
    "print(type(a))\n",
    "print(a.shape) \n",
    "print(a[0], a[1], a[2])\n"
   ]
  },
  {
   "cell_type": "markdown",
   "metadata": {},
   "source": [
    "Prueba otros ejemplos de las diapositivas"
   ]
  },
  {
   "cell_type": "code",
   "execution_count": null,
   "metadata": {},
   "outputs": [],
   "source": []
  },
  {
   "cell_type": "code",
   "execution_count": null,
   "metadata": {},
   "outputs": [],
   "source": []
  },
  {
   "cell_type": "markdown",
   "metadata": {},
   "source": [
    "#### Slicing con Python"
   ]
  },
  {
   "cell_type": "code",
   "execution_count": null,
   "metadata": {},
   "outputs": [],
   "source": [
    "a = [1, 2, 3, 4, 5, 6, 7, 8]"
   ]
  },
  {
   "cell_type": "markdown",
   "metadata": {},
   "source": [
    "Devolver elementos 2,3,4:"
   ]
  },
  {
   "cell_type": "code",
   "execution_count": null,
   "metadata": {},
   "outputs": [],
   "source": [
    "print(a[1:4])"
   ]
  },
  {
   "cell_type": "markdown",
   "metadata": {},
   "source": [
    "Devolver sólo elementos pares: no queremos el 3 que se imprime arriba. Usamos el incremento:"
   ]
  },
  {
   "cell_type": "code",
   "execution_count": null,
   "metadata": {},
   "outputs": [],
   "source": [
    "print(a[1:4:2])"
   ]
  },
  {
   "cell_type": "markdown",
   "metadata": {},
   "source": [
    "Vamos a imprimir la lista al revés con todos sus elementos:"
   ]
  },
  {
   "cell_type": "code",
   "execution_count": null,
   "metadata": {},
   "outputs": [],
   "source": [
    "print(a[::-1])"
   ]
  },
  {
   "cell_type": "code",
   "execution_count": null,
   "metadata": {},
   "outputs": [],
   "source": [
    "b = np.array ([[1,2,3,4], [5,6,7,8], [9,10,11,12]])\n",
    "print(b)\n",
    "print(\"----\")\n",
    "b[:2,1:3]"
   ]
  },
  {
   "cell_type": "code",
   "execution_count": null,
   "metadata": {},
   "outputs": [],
   "source": []
  },
  {
   "cell_type": "code",
   "execution_count": null,
   "metadata": {},
   "outputs": [],
   "source": []
  },
  {
   "cell_type": "code",
   "execution_count": null,
   "metadata": {},
   "outputs": [],
   "source": []
  }
 ],
 "metadata": {
  "kernelspec": {
   "display_name": "Python 3",
   "language": "python",
   "name": "python3"
  },
  "language_info": {
   "codemirror_mode": {
    "name": "ipython",
    "version": 3
   },
   "file_extension": ".py",
   "mimetype": "text/x-python",
   "name": "python",
   "nbconvert_exporter": "python",
   "pygments_lexer": "ipython3",
   "version": "3.7.5"
  }
 },
 "nbformat": 4,
 "nbformat_minor": 2
}
