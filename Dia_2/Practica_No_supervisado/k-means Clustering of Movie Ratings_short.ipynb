{
 "cells": [
  {
   "cell_type": "markdown",
   "metadata": {},
   "source": [
    "# Clustering con K-Means. Sistema recomendador de películas.\n",
    "Eres un analista de datos en Netflix y quieres analizar los gustos de las personas basándote en la votación que le han dado a las diferentes películas que han visto.\n",
    "\n",
    "¿Es posible construir un sistema recomendador de películas para nuestros usuarios?\n",
    "- Vamos a utilizar el algoritmo de Clustering K-Means para generar distintos grupos/clústers de usuarios con gustos parecidos, basándonos en las votaciones que han dado a las películas que han visto.\n",
    "- Despues utilizaremos los resultados obtenidos para recomendar películas que no haya visto un determinado usuario, pero que sí hayan visto otros usuarios dentro de su mismo clúster de gustos.\n",
    "\n",
    "\n",
    "Usaremos el dataset de [MovieLens](https://movielens.org/) [user rating dataset](http://files.grouplens.org/datasets/movielens/ml-latest-small.zip). "
   ]
  },
  {
   "cell_type": "markdown",
   "metadata": {},
   "source": [
    "## Importar y analizar los datos\n",
    "Obtendremos los datos de dos ficheros:\n",
    "- movies.csv: Contiene un listado de películas y los géneros de cada película.\n",
    "- ratings.csv: Contiene un listado de usuarios con la votación que han hecho a distintas películas.\n",
    "    \n",
    "Vamos a unificar estos ficheros para tener toda la información en un solo dataset. Primero importaremos los dos ficheros en dos dataframes, despues uniremos los dos dataframes.\n",
    "\n",
    "Nota 1: Para leer ficheros con pandas usaremos [read_csv](https://pandas.pydata.org/pandas-docs/stable/reference/api/pandas.read_csv.html)\n",
    "\n",
    "Nota 2: Con la función [merge()](https://pandas.pydata.org/pandas-docs/stable/reference/api/pandas.DataFrame.merge.html) podemos unir dos dataframes (funciona igual que el join de SQL)"
   ]
  },
  {
   "cell_type": "code",
   "execution_count": null,
   "metadata": {
    "scrolled": false
   },
   "outputs": [],
   "source": [
    "# Importamos las librerías necesarias\n",
    "import pandas as pd\n",
    "import matplotlib.pyplot as plt\n",
    "import numpy as np\n",
    "from scipy.sparse import csr_matrix\n",
    "import helper\n",
    "import pickle"
   ]
  },
  {
   "cell_type": "code",
   "execution_count": null,
   "metadata": {
    "scrolled": false
   },
   "outputs": [],
   "source": [
    "# Importamos el dataset de películas.\n",
    "movies = pd.read_csv('data/movies.csv')\n",
    "movies.head()"
   ]
  },
  {
   "cell_type": "code",
   "execution_count": null,
   "metadata": {
    "scrolled": false
   },
   "outputs": [],
   "source": [
    "# Importamos el dataset de las votaciones\n",
    "ratings = pd.read_csv('data/ratings.csv')\n",
    "ratings.head()"
   ]
  },
  {
   "cell_type": "code",
   "execution_count": null,
   "metadata": {
    "scrolled": false
   },
   "outputs": [],
   "source": [
    "print('Nuestro dataset contiene: ', len(ratings), ' votaciones de ', len(movies), ' películas.')"
   ]
  },
  {
   "cell_type": "code",
   "execution_count": null,
   "metadata": {
    "scrolled": false
   },
   "outputs": [],
   "source": [
    "# Unimos los dos datasets usando movieId, para tener en cada fila \n",
    "#la votación de cada usuario junto a los datos de la película votada.\n",
    "user_movies_ratings = ratings.merge(right=movies, how='left', on='movieId')\n",
    "#user_movies_ratings[merged_ratings['userId']==64]\n",
    "user_movies_ratings.head()"
   ]
  },
  {
   "cell_type": "markdown",
   "metadata": {},
   "source": [
    "¿Cuántas filas tendrá nuestro dataset unificado?"
   ]
  },
  {
   "cell_type": "code",
   "execution_count": null,
   "metadata": {
    "scrolled": false
   },
   "outputs": [],
   "source": [
    "# TODO\n",
    "\n",
    "# ----"
   ]
  },
  {
   "cell_type": "markdown",
   "metadata": {},
   "source": [
    "## Funcionamiento K-Means: Romance vs. Scifi\n",
    "Para entender como funciona [K-Means](https://scikit-learn.org/stable/modules/generated/sklearn.cluster.KMeans.html), vamos a centrarnos en un subconjunto de usuarios. Analizaremos sus preferencias de géneros. \n",
    "\n",
    "Para ahorrar tiempo, usaremos algunas funciones que nos ayudarán a preprocesar los datos. Las podrás encontrar en el fichero `helpers.py`.\n",
    "\n",
    "Nota: Usaremos la función `get_genre_ratings(ratings, genres, column_names)` para obtener una media de las votaciones de cada usuario para los géneros que indiquemos."
   ]
  },
  {
   "cell_type": "code",
   "execution_count": null,
   "metadata": {
    "scrolled": true
   },
   "outputs": [],
   "source": [
    "# Calculamos la media de votaciones para los géneros Romance y Ciencia Ficción\n",
    "genre_ratings = helper.get_genre_ratings(user_movies_ratings, ['Romance', 'Sci-Fi'], ['avg_romance_rating', 'avg_scifi_rating'])\n",
    "genre_ratings.head()"
   ]
  },
  {
   "cell_type": "markdown",
   "metadata": {},
   "source": [
    "La función `get_genre_ratings` ha calculado, para cada usuario, la media de todas las votaciones que ha hecho de las películas de cada uno de los géneros.\n",
    "\n",
    "Vamos a user la función `bias_genre_rating_dataset()` para descartar los usuarios a los que les gustan los dos géneros, para ver más claramente la separación por gustos."
   ]
  },
  {
   "cell_type": "code",
   "execution_count": null,
   "metadata": {
    "scrolled": false
   },
   "outputs": [],
   "source": [
    "dataset = genre_ratings\n",
    "biased_dataset = helper.bias_genre_rating_dataset(genre_ratings, 3.2, 2.5)\n",
    "print( \"Número de registros: \", len(biased_dataset))"
   ]
  },
  {
   "cell_type": "markdown",
   "metadata": {},
   "source": [
    "### Visualización de datos"
   ]
  },
  {
   "cell_type": "markdown",
   "metadata": {},
   "source": [
    "Vamos a imprimir los datasets:"
   ]
  },
  {
   "cell_type": "code",
   "execution_count": null,
   "metadata": {
    "scrolled": false
   },
   "outputs": [],
   "source": [
    "%matplotlib inline\n",
    "\n",
    "helper.draw_scatterplot(dataset['avg_scifi_rating'],'Avg scifi rating', dataset['avg_romance_rating'], 'Avg romance rating')\n",
    "helper.draw_scatterplot(biased_dataset['avg_scifi_rating'],'Avg scifi rating', biased_dataset['avg_romance_rating'], 'Avg romance rating')\n"
   ]
  },
  {
   "cell_type": "markdown",
   "metadata": {},
   "source": [
    "A simple vista podemos observar la separación de los datos. ¿Cómo ve los datos el algoritmo K-Means?\n",
    "Vamos a ejecutarlo para que intente separar los datos en dos grupos (K=2)"
   ]
  },
  {
   "cell_type": "markdown",
   "metadata": {},
   "source": [
    "### Ejecutar K-Means"
   ]
  },
  {
   "cell_type": "code",
   "execution_count": null,
   "metadata": {
    "scrolled": false
   },
   "outputs": [],
   "source": [
    "# Importamos KMeans\n",
    "from sklearn.cluster import KMeans\n",
    "\n",
    "# Creamos una instancia de KMeans para encontrar 2 clusters y ejecutamos la funcion fit para generar el modelo.\n",
    "kmeans_1 = KMeans(n_clusters=2, random_state=0).fit(biased_dataset[['avg_scifi_rating','avg_romance_rating']])\n",
    "# Ejecutamos predict para clusterizar el dataset\n",
    "predictions = kmeans_1.predict(biased_dataset[['avg_scifi_rating','avg_romance_rating']])\n",
    "\n",
    "# Usamos la función draw_clusters para imprimir graficamente el resultado\n",
    "helper.draw_clusters(biased_dataset, predictions, ['romance','scifi'])"
   ]
  },
  {
   "cell_type": "markdown",
   "metadata": {},
   "source": [
    "Podemos ver que el algoritmo ha tenido en cuenta principalmente la valoración de las películas de romance. Si la puntuación media es mayor a 3 estrellas, entonces el usuario pertenece al primer grupo, si es menor pertenece al otro grupo.\n",
    "\n",
    "¿Y si probamos a dividirlo en tres grupos?"
   ]
  },
  {
   "cell_type": "code",
   "execution_count": null,
   "metadata": {
    "scrolled": false
   },
   "outputs": [],
   "source": [
    "# Creamos una instancia de KMeans para encontrar 3 clusters\n",
    "kmeans_2 = KMeans(n_clusters=3, random_state=1)\n",
    "\n",
    "# Ejecutamos fit_predict para clusterizar el dataset\n",
    "predictions_2 = kmeans_2.fit_predict(biased_dataset[['avg_scifi_rating','avg_romance_rating']])\n",
    "\n",
    "# Usamos la función draw_clusters para imprimir graficamente el resultado\n",
    "helper.draw_clusters(biased_dataset, predictions_2, ['romance','scifi'])"
   ]
  },
  {
   "cell_type": "markdown",
   "metadata": {},
   "source": [
    "Ahora vemos como las puntuaciones de ciencia ficción están teniendo más relevancia para el algoritmo.\n",
    "* Usuarios a los que les gusta el romance pero no la ciencia ficción (grupo morado).\n",
    "* Usuarios a los que les gusta la ciencia ficción pero no el romance (grupo amarillo) \n",
    "* Usuarios a los que les gusta la ciencia ficción y el romance\n",
    " "
   ]
  },
  {
   "cell_type": "markdown",
   "metadata": {},
   "source": [
    "### Ejercicio\n",
    "* Intenta clusterizar el dataset original, en lugar del que hemos filtrado. Puedes probar con K=2 y K=3\n",
    "* Hemos comparado los géneros de ciencia ficción y romance. Prueba a comparar otros dos géneros. Para obtener la lista de géneros, puedes usar la función `helper.get_genres()`"
   ]
  },
  {
   "cell_type": "code",
   "execution_count": null,
   "metadata": {},
   "outputs": [],
   "source": [
    "# TODO\n",
    "\n",
    "# ----"
   ]
  },
  {
   "cell_type": "markdown",
   "metadata": {},
   "source": [
    "## Sistema recomendador de películas\n",
    "Hemos visto como funciona K-Means con las votaciones para dos géneros. Vamos a volver a nuestro Sistema Recomendador de Películas. Para ello tendremos en cuenta todas las votaciones de todas las películas para crear nuestros clusters."
   ]
  },
  {
   "cell_type": "markdown",
   "metadata": {},
   "source": [
    "### Tratando con valores nulos.\n",
    "Vamos a crear una pivot table con la siguiente forma:\n",
    "- filas -> usuarios\n",
    "- columnas -> peliculas\n",
    "- celda (fila, columna) -> valoración de un determinado usuario (fila) para una determinada película (columna)."
   ]
  },
  {
   "cell_type": "code",
   "execution_count": null,
   "metadata": {},
   "outputs": [],
   "source": [
    "user_movie_ratings = pd.pivot_table(user_movies_ratings, index='userId', columns= 'title', values='rating')\n",
    "\n",
    "print('Tenemos %s filas (usuarios) y %s columnas (películas) ' % (user_movie_ratings.shape[0], user_movie_ratings.shape[1]))\n",
    "user_movie_ratings.head()"
   ]
  },
  {
   "cell_type": "markdown",
   "metadata": {},
   "source": [
    "Nos encontramos con un problema muy frecuente: La existencia de valores nulos. Esto quiere decir que muchos usuarios no han votado muchas películas. Esto es normal porque hay muchas películas que no han visto.\n",
    "\n",
    "Nos interesa tener todos los datos concentrados en una zona de la tabla, así que vamos a ordenar la tabla para tener, al principio de la tabla, los datos de las películas con más votaciones y los usuarios que han votado mayor número de películas.\n",
    "\n",
    "Para ello vamos a usar la función `sort_by_rating_density` que nos ordenará la tabla tal y como hemos descrito arriba."
   ]
  },
  {
   "cell_type": "code",
   "execution_count": null,
   "metadata": {
    "scrolled": false
   },
   "outputs": [],
   "source": [
    "n_movies = 30\n",
    "n_users = 20\n",
    "most_rated_movies_users_selection = helper.sort_by_rating_density(user_movie_ratings, n_movies, n_users)\n",
    "most_rated_movies_users_selection.head()"
   ]
  },
  {
   "cell_type": "markdown",
   "metadata": {},
   "source": [
    "Esto tiene mejor pinta. Hemos condensado toda la información útil en la zona superior de nuestro dataset. Ahora podemos visualizarlo.\n",
    "\n",
    "Para visualizar grandes cantidades de datos podemos utilizar mapas de calor. Nuestra función `draw_movies_heatmap` nos ayudará con esto. Veamos como se ven los datos una vez ordenados."
   ]
  },
  {
   "cell_type": "code",
   "execution_count": null,
   "metadata": {
    "scrolled": false
   },
   "outputs": [],
   "source": [
    "helper.draw_movies_heatmap(most_rated_movies_users_selection)"
   ]
  },
  {
   "cell_type": "markdown",
   "metadata": {},
   "source": [
    "Cada columna es una película. Cada fila es un usuario. El color de cada celda indica la valoración del usuario para ésa película.\n",
    "\n",
    "Las celdas blancas indican que el usuario no ha votado esa película todavía.\n",
    "A KMeans no le gustan los valores vacíos, así que los reemplazaremos antes de empezar el entrenamiento."
   ]
  },
  {
   "cell_type": "markdown",
   "metadata": {},
   "source": [
    "## Clusterizando películas\n",
    "Con K-Means, tenemos que especificar el número de clústers K. Vamos a probar con 20.\n",
    "\n",
    "Recordemos que a K-Means no le gustan los valores nulos, así que usaremos la función `fillna` de pandas para reemplazar los valores nulos por 0."
   ]
  },
  {
   "cell_type": "code",
   "execution_count": null,
   "metadata": {
    "scrolled": true
   },
   "outputs": [],
   "source": [
    "#user_movie_ratings =  pd.pivot_table(ratings_title, index='userId', columns= 'title', values='rating')\n",
    "# Por motivos de recursos, trabajaremos con 1000 películas en vez de las +9000\n",
    "most_rated_movies_1k = helper.get_most_rated_movies(user_movie_ratings, 1000)\n",
    "most_rated_movies_1k"
   ]
  },
  {
   "cell_type": "code",
   "execution_count": null,
   "metadata": {},
   "outputs": [],
   "source": [
    "# K-Means con 20 clusters\n",
    "kmeans_20 = KMeans(n_clusters=20, algorithm='full', random_state=2).fit(most_rated_movies_1k.fillna(0))\n",
    "# Calculamos los clusters para todos los registros de nuestro dataset)\n",
    "predictions = kmeans_20.predict(most_rated_movies_1k.fillna(0))\n",
    "# También podemos calcular el clúster de un solo registro.\n",
    "prediction = kmeans_20.predict(most_rated_movies_1k.fillna(0).iloc[0:1])\n"
   ]
  },
  {
   "cell_type": "code",
   "execution_count": null,
   "metadata": {},
   "outputs": [],
   "source": [
    "max_users = 70 # max_users para imprimir mapas de calor\n",
    "max_movies = 50 # max_movies para imprimir mapas de calor\n",
    "# Concatenamos las predicciones a nuestro data set, en la columna grupo.\n",
    "most_rated_movies_1k_clustered = pd.concat([most_rated_movies_1k.reset_index(), pd.DataFrame({'group':predictions})], axis=1)\n",
    "most_rated_movies_1k_clustered\n",
    "# Podemos imprimir los mapas de calor de cada uno de los clústers.\n",
    "#helper.draw_movie_clusters(most_rated_movies_1k_clustered, max_users, max_movies)"
   ]
  },
  {
   "cell_type": "markdown",
   "metadata": {},
   "source": [
    "## Predicción"
   ]
  },
  {
   "cell_type": "markdown",
   "metadata": {},
   "source": [
    "Ya tenemos nuestro modelo capaz de clusterizar y decirnos a que grupo pertenece un usuario a partir de sus votaciones.\n",
    "Veamos a ver qué podemos hacer con nuestro modelo. \n",
    "* Vamos a seleccionar un clúster y algún usuario dentro de ese cluster. \n",
    "* Después identificaremos las películas que no ha visto dentro de ese clúster.\n",
    "* Sabemos que, dentro de ese clúster, los usuarios tienen gustos comunes.\n",
    "* Intentaremos predecir la puntuación que ese usuario le dará a la película cuando la vea."
   ]
  },
  {
   "cell_type": "code",
   "execution_count": null,
   "metadata": {},
   "outputs": [],
   "source": [
    "# Selecciona un ID de los clústers de arriba (columna grupo)\n",
    "cluster_number = 5\n",
    "\n",
    "# Filtramos para ver los datos de ese cluster\n",
    "n_users = 70\n",
    "n_movies = 50\n",
    "cluster = most_rated_movies_1k_clustered[most_rated_movies_1k_clustered.group == cluster_number]\n",
    "# ordenados con los valores más altos en la parte alta de la tabla\n",
    "cluster = helper.sort_by_rating_density(cluster.drop(['index', 'group'], axis=1), n_movies, n_users)\n",
    "helper.draw_movies_heatmap(cluster, axis_labels=False)\n",
    "cluster.fillna('')[:10]"
   ]
  },
  {
   "cell_type": "markdown",
   "metadata": {},
   "source": [
    "Selecciona una celda en blanco de la tabla. Está en blanco porque el usuario no ha votado la película todavía.\n",
    "\n",
    "¿Podemos predecir si le gustará a nuestro usuario la película?\n",
    "\n",
    "Como el usuario esta en un grupo con gustos similares, podemos calcular la media de las puntuaciones de los demás usuarios para esa película en ese cluster. Obtendremos la valoración aproximada que le daría este usuario tras ver la película.\n",
    "\n"
   ]
  },
  {
   "cell_type": "code",
   "execution_count": null,
   "metadata": {},
   "outputs": [],
   "source": [
    "movie_name = 'Truman Show, The (1998)'\n",
    "print('Nuestro algoritmo predice que el usuario le dará a %s una recomendación de: %s ' % (movie_name, str(cluster[movie_name].mean())) )"
   ]
  },
  {
   "cell_type": "markdown",
   "metadata": {
    "collapsed": true
   },
   "source": [
    "## Recomendaciones\n",
    "¡Ya estamos cerca!\n",
    "Vamos a repasar lo que hemos hecho:\n",
    "- Hemos usado K-Means para clusterizar usuarios según las puntuaciones que le han dado a distintas películas.\n",
    "- Esto nos ha generado clusters con puntuaciones similares y, como consecuencia, con gustos cinéfilos similares.\n",
    "\n",
    "Teniendo en cuesta lo anterior, nuestro sistema de recomendación funcionará de la siguiente manera:\n",
    "\n",
    "- Cuando encontremos un usuario que no ha puntuado una película, podemos calcular la media de las puntuaciones de los demás usuarios en el cluster.\n",
    "- También podemos calcular la media de puntuaciones de cada película dentro de un clúster, para saber cuanto gusta esa película dentro de ese clúster.\n",
    "\n"
   ]
  },
  {
   "cell_type": "markdown",
   "metadata": {},
   "source": [
    "Vamos a calcular la puntuación media de las 20 películas más votadas de nuestro cluster"
   ]
  },
  {
   "cell_type": "code",
   "execution_count": null,
   "metadata": {},
   "outputs": [],
   "source": [
    "# putuación media de las 20 primeras películas\n",
    "cluster.mean().head(20).sort_values(ascending=False)"
   ]
  },
  {
   "cell_type": "markdown",
   "metadata": {},
   "source": [
    "Esto es muy útil, porque podemos usarlo en nuestro sistema de recomendación, lo cual permitirá a nuestros usuarios descubrir películas que probablemente les gustarán.\n"
   ]
  },
  {
   "cell_type": "code",
   "execution_count": null,
   "metadata": {},
   "outputs": [],
   "source": [
    "cluster2 = most_rated_movies_1k_clustered[most_rated_movies_1k_clustered.group == cluster_number]\n",
    "cluster2.fillna('')[:20]"
   ]
  },
  {
   "cell_type": "code",
   "execution_count": null,
   "metadata": {
    "scrolled": true
   },
   "outputs": [],
   "source": [
    "#Seleccionamos un usuario de la tabla de arriba, la que obtuvimos al ejecutar el comando 'cluster.fillna('').head()'\n",
    "user_id = 21\n",
    "# Obtenemos todas las peliculas que ha votado el usuario\n",
    "user_2_ratings =cluster2.iloc[user_id,:]\n",
    "user_2_ratings[user_2_ratings.notna()]\n",
    "\n",
    "# Películas que no ha votado el usuario\n",
    "user_2_unrated_movies =  user_2_ratings[user_2_ratings.isnull()]\n",
    "# Concatenamos la lista de películas que no ha votado el usuario y la lista de puntuaciones medias del cluster\n",
    "# para obtener las votaciones de las películas que no ha visto el usuario\n",
    "avg_ratings = pd.concat([user_2_unrated_movies, cluster.mean()], axis=1, join='inner').loc[:,0]\n",
    "\n",
    "# Ordenamos ascendentemente según puntuaciones\n",
    "avg_ratings.sort_values(ascending=False)[:20]"
   ]
  },
  {
   "cell_type": "markdown",
   "metadata": {
    "collapsed": true
   },
   "source": [
    "Estas son las recomendaciones para nuestro usuario!"
   ]
  },
  {
   "cell_type": "markdown",
   "metadata": {},
   "source": [
    "## Exportar modelo"
   ]
  },
  {
   "cell_type": "code",
   "execution_count": null,
   "metadata": {},
   "outputs": [],
   "source": [
    "filename = 'kmeans_20.sav'\n",
    "pickle.dump(kmeans_20, open(filename, 'wb'))"
   ]
  },
  {
   "cell_type": "markdown",
   "metadata": {},
   "source": [
    "## Importar modelo"
   ]
  },
  {
   "cell_type": "code",
   "execution_count": null,
   "metadata": {},
   "outputs": [],
   "source": [
    "model = pickle.load(open(filename, 'rb'))\n",
    "model.predict(most_rated_movies_1k.fillna(0))"
   ]
  },
  {
   "cell_type": "code",
   "execution_count": null,
   "metadata": {},
   "outputs": [],
   "source": []
  }
 ],
 "metadata": {
  "anaconda-cloud": {},
  "kernelspec": {
   "display_name": "Python 3",
   "language": "python",
   "name": "python3"
  },
  "language_info": {
   "codemirror_mode": {
    "name": "ipython",
    "version": 3
   },
   "file_extension": ".py",
   "mimetype": "text/x-python",
   "name": "python",
   "nbconvert_exporter": "python",
   "pygments_lexer": "ipython3",
   "version": "3.7.5"
  }
 },
 "nbformat": 4,
 "nbformat_minor": 1
}
